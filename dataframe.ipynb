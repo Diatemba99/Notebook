{
 "cells": [
  {
   "cell_type": "code",
   "execution_count": 10,
   "id": "15e96c75",
   "metadata": {},
   "outputs": [
    {
     "name": "stdout",
     "output_type": "stream",
     "text": [
      "       ABCD      EFGH      IJKL      MNOP\n",
      "0  0.712528  0.629608  1.713832 -0.592839\n",
      "1 -0.223960 -0.646964 -0.738256  1.078081\n",
      "2  1.284398  2.449613  0.881645 -0.660847\n",
      "3 -0.861314 -1.295074 -0.862794 -0.560177\n",
      "4 -0.882720 -0.485337  1.446082 -0.375613\n",
      "5  0.024154  0.197660  1.693053  0.905117\n",
      "6 -1.110938 -0.033864  1.190829  1.075216\n",
      "7 -0.761053 -0.793436 -0.678271  1.012512\n",
      "////////////////////////////////////////////////////////////\n",
      "          A         B         C         D\n",
      "0  0.712528  0.629608  1.713832 -0.592839\n",
      "1 -0.223960 -0.646964 -0.738256  1.078081\n",
      "2  1.284398  2.449613  0.881645 -0.660847\n",
      "3 -0.861314 -1.295074 -0.862794 -0.560177\n",
      "4 -0.882720 -0.485337  1.446082 -0.375613\n",
      "5  0.024154  0.197660  1.693053  0.905117\n",
      "6 -1.110938 -0.033864  1.190829  1.075216\n",
      "7 -0.761053 -0.793436 -0.678271  1.012512\n"
     ]
    }
   ],
   "source": [
    "import numpy as np\n",
    "import pandas as pd\n",
    "\n",
    "#Creation of dataframe using numpy array\n",
    "dataframe_numpy = np.random.randn(8,4)\n",
    "\n",
    "\n",
    "#second part of dataframe creation using pandas lib and columns assignements\n",
    "df = pd.DataFrame(dataframe_numpy, columns=(\"ABCD\",\"EFGH\", \"IJKL\",\"MNOP\"))\n",
    "print(df)\n",
    "\n",
    "print(\"//\"*30)\n",
    "\n",
    "#printing values without list function\n",
    "df2 = pd.DataFrame(dataframe_numpy,columns=list(\"ABCD\"))\n",
    "print(df2)\n"
   ]
  },
  {
   "cell_type": "code",
   "execution_count": null,
   "id": "d8912952",
   "metadata": {},
   "outputs": [],
   "source": []
  },
  {
   "cell_type": "code",
   "execution_count": null,
   "id": "3f8035a0",
   "metadata": {},
   "outputs": [],
   "source": []
  }
 ],
 "metadata": {
  "kernelspec": {
   "display_name": "Python 3",
   "language": "python",
   "name": "python3"
  },
  "language_info": {
   "codemirror_mode": {
    "name": "ipython",
    "version": 3
   },
   "file_extension": ".py",
   "mimetype": "text/x-python",
   "name": "python",
   "nbconvert_exporter": "python",
   "pygments_lexer": "ipython3",
   "version": "3.8.8"
  }
 },
 "nbformat": 4,
 "nbformat_minor": 5
}
