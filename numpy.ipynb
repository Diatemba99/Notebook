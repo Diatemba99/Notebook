{
 "cells": [
  {
   "cell_type": "code",
   "execution_count": 53,
   "id": "38a8f582",
   "metadata": {},
   "outputs": [
    {
     "name": "stdout",
     "output_type": "stream",
     "text": [
      "[5 5 5 5 5]\n",
      "[0. 0. 0. 0. 0.]\n",
      "Give Integers with random array between two values\n"
     ]
    }
   ],
   "source": [
    "import numpy as np\n",
    "tab1 = np.array([[1,2,3,4], [5,6,7,8]])\n",
    "tab2 = np.array([1,2,3,4])\n",
    "\n",
    "\n",
    "#Adding values on given array List\n",
    "fullFuc = np.full(5,5)\n",
    "print(fullFuc)\n",
    "\n",
    "#removing values of given array List\n",
    "zeroFuc = np.zeros(5)\n",
    "print(zeroFuc)\n",
    "\n",
    "\n",
    "\n",
    "#value = np.random.random()\n",
    "#print(\"To have random values of array between 0 and 1\")\n",
    "#print(value)\n",
    "\n",
    "#value2 = np.random.random((2,2))\n",
    "#print(value2)\n",
    "\n",
    "print(\"Give Integers with random array between two values\")\n",
    "value3= np.random.randint(5,1000, size=(2,10))\n",
    "\n",
    "\n",
    "#print(value3)\n",
    "#print(tab1)\n",
    "#part1 = tab1[0]\n",
    "#part2 = tab1[1]\n",
    "#print(\"*\"*15)\n",
    "#print(\"When we want to know the shape of an numpy array\")\n",
    "#print(tab1.shape)\n",
    "#print(\"When we want to know the type of an numpy array\")\n",
    "#print(type(tab2))\n",
    "#print(\"When we want to access to an element of a numpy array\")\n",
    "#print(tab1[0,0] , tab1[1,3])"
   ]
  },
  {
   "cell_type": "code",
   "execution_count": null,
   "id": "d103e22f",
   "metadata": {},
   "outputs": [],
   "source": []
  },
  {
   "cell_type": "code",
   "execution_count": null,
   "id": "d547e2a5",
   "metadata": {},
   "outputs": [],
   "source": []
  },
  {
   "cell_type": "code",
   "execution_count": null,
   "id": "4c0c2c73",
   "metadata": {},
   "outputs": [],
   "source": []
  },
  {
   "cell_type": "code",
   "execution_count": null,
   "id": "2d8fe122",
   "metadata": {},
   "outputs": [],
   "source": []
  },
  {
   "cell_type": "code",
   "execution_count": null,
   "id": "35939d87",
   "metadata": {},
   "outputs": [],
   "source": []
  }
 ],
 "metadata": {
  "kernelspec": {
   "display_name": "Python 3",
   "language": "python",
   "name": "python3"
  },
  "language_info": {
   "codemirror_mode": {
    "name": "ipython",
    "version": 3
   },
   "file_extension": ".py",
   "mimetype": "text/x-python",
   "name": "python",
   "nbconvert_exporter": "python",
   "pygments_lexer": "ipython3",
   "version": "3.8.8"
  }
 },
 "nbformat": 4,
 "nbformat_minor": 5
}
