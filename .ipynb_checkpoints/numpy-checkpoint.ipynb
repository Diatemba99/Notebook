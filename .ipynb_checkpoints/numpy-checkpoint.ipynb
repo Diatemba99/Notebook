{
 "cells": [
  {
   "cell_type": "code",
   "execution_count": 49,
   "id": "15fb43a5",
   "metadata": {},
   "outputs": [
    {
     "name": "stdout",
     "output_type": "stream",
     "text": [
      "Give Integers with random array between two values\n",
      "[[ 34 600 926 515 561 318 457 161 447 892]\n",
      " [917 196 353 903 994 667 243 454  68 836]]\n"
     ]
    }
   ],
   "source": [
    "import numpy as np\n",
    "tab1 = np.array([[1,2,3,4], [5,6,7,8]])\n",
    "tab2 = np.array([1,2,3,4])\n",
    "\n",
    "\n",
    "\n",
    "\n",
    "\n",
    "#value = np.random.random()\n",
    "#print(\"To have random values of array between 0 and 1\")\n",
    "#print(value)\n",
    "\n",
    "#value2 = np.random.random((2,2))\n",
    "#print(value2)\n",
    "\n",
    "print(\"Give Integers with random array between two values\")\n",
    "value3= np.random.randint(5,1000, size=(2,10))\n",
    "#print(value3)\n",
    "\n",
    "\n",
    "\n",
    "#print(tab1)\n",
    "#part1 = tab1[0]\n",
    "#part2 = tab1[1]\n",
    "#print(\"*\"*15)\n",
    "#print(\"When we want to know the shape of an numpy array\")\n",
    "#print(tab1.shape)\n",
    "#print(\"When we want to know the type of an numpy array\")\n",
    "#print(type(tab2))\n",
    "#print(\"When we want to access to an element of a numpy array\")\n",
    "#print(tab1[0,0] , tab1[1,3])"
   ]
  },
  {
   "cell_type": "code",
   "execution_count": null,
   "id": "cc861c07",
   "metadata": {},
   "outputs": [],
   "source": []
  },
  {
   "cell_type": "code",
   "execution_count": null,
   "id": "7f3cc338",
   "metadata": {},
   "outputs": [],
   "source": []
  },
  {
   "cell_type": "code",
   "execution_count": null,
   "id": "bd75a55e",
   "metadata": {},
   "outputs": [],
   "source": []
  },
  {
   "cell_type": "code",
   "execution_count": null,
   "id": "c85d833e",
   "metadata": {},
   "outputs": [],
   "source": []
  },
  {
   "cell_type": "code",
   "execution_count": null,
   "id": "785cd064",
   "metadata": {},
   "outputs": [],
   "source": []
  }
 ],
 "metadata": {
  "kernelspec": {
   "display_name": "Python 3",
   "language": "python",
   "name": "python3"
  },
  "language_info": {
   "codemirror_mode": {
    "name": "ipython",
    "version": 3
   },
   "file_extension": ".py",
   "mimetype": "text/x-python",
   "name": "python",
   "nbconvert_exporter": "python",
   "pygments_lexer": "ipython3",
   "version": "3.8.8"
  }
 },
 "nbformat": 4,
 "nbformat_minor": 5
}
