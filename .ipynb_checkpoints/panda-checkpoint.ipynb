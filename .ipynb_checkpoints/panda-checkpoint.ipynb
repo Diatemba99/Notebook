{
 "cells": [
  {
   "cell_type": "code",
   "execution_count": 8,
   "id": "c4f4b075",
   "metadata": {},
   "outputs": [
    {
     "name": "stdout",
     "output_type": "stream",
     "text": [
      "0        AI\n",
      "1     MARCH\n",
      "2    PYTHON\n",
      "dtype: object\n",
      "/*//*//*//*//*//*//*//*//*//*//*//*//*//*//*/\n",
      "january     31\n",
      "february    28\n",
      "march       32\n",
      "april       33\n",
      "dtype: int64\n",
      "+-++-++-++-++-++-++-++-++-++-++-++-++-++-++-++-++-++-++-++-+\n",
      "apples      NaN\n",
      "cherries    NaN\n",
      "cirese      NaN\n",
      "mere        NaN\n",
      "oranges     NaN\n",
      "pears       NaN\n",
      "pere        NaN\n",
      "portocale   NaN\n",
      "dtype: float64\n"
     ]
    }
   ],
   "source": [
    "import pandas as pd\n",
    "\n",
    "valeur1= pd.Series([\"AI\",\"MARCH\",\"PYTHON\"])\n",
    "print(valeur1)\n",
    "\n",
    "months = [\"january\", \"february\", \"march\", \"april\"]\n",
    "days = [31,28,32,33]\n",
    "\n",
    "print(\"/*/\"*15)\n",
    "allDM =pd.Series(days, index=months)\n",
    "print(allDM)\n",
    "print(\"+-+\"*20)\n",
    "fruits = [\"apples\", \"oranges\", \"cherries\", \"pears\"]\n",
    "fruits_ro = [\"mere\", \"portocale\", \"cirese\", \"pere\"]\n",
    "S = pd.Series([20, 33, 52, 10], index=fruits)\n",
    "S2 = pd.Series([17, 13, 311, 32], index=fruits_ro)\n",
    "print(S+S2)"
   ]
  },
  {
   "cell_type": "code",
   "execution_count": null,
   "id": "98423fac",
   "metadata": {},
   "outputs": [],
   "source": []
  },
  {
   "cell_type": "code",
   "execution_count": null,
   "id": "38840b8c",
   "metadata": {},
   "outputs": [],
   "source": []
  }
 ],
 "metadata": {
  "kernelspec": {
   "display_name": "Python 3",
   "language": "python",
   "name": "python3"
  },
  "language_info": {
   "codemirror_mode": {
    "name": "ipython",
    "version": 3
   },
   "file_extension": ".py",
   "mimetype": "text/x-python",
   "name": "python",
   "nbconvert_exporter": "python",
   "pygments_lexer": "ipython3",
   "version": "3.8.8"
  }
 },
 "nbformat": 4,
 "nbformat_minor": 5
}
