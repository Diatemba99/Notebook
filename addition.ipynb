{
 "cells": [
  {
   "cell_type": "code",
   "execution_count": 9,
   "id": "ba0b8e0d",
   "metadata": {},
   "outputs": [
    {
     "name": "stdout",
     "output_type": "stream",
     "text": [
      "[[1. 5. 8.]\n",
      " [6. 3. 9.]]\n",
      "+++++++++++++++\n",
      "[[ 0.  3.  4.]\n",
      " [12.  6. 18.]]\n",
      "+++++++++++++++\n",
      "[[ 1.  8. 12.]\n",
      " [18.  9. 27.]]\n",
      "+++++++++++++++++++++++++\n",
      "[[ 1.  8. 12.]\n",
      " [18.  9. 27.]]\n",
      "+++++++++++++++++++++++++\n",
      "[[ 1.  2.  4.]\n",
      " [-6. -3. -9.]]\n"
     ]
    }
   ],
   "source": [
    "import numpy as np\n",
    "\n",
    "x =np.array([[1,5,8], [6,3,9]], dtype=np.float64)\n",
    "y =np.array([[0,3,4], [12,6,18]], dtype=np.float64)\n",
    "sum1=np.add(x,y)\n",
    "sum2= x + y\n",
    "\n",
    "soustract = x - y\n",
    "soustract2 =np.subtract(x,y)\n",
    "\n",
    "print(x)\n",
    "#print(\"+\"*15)\n",
    "#print(y)\n",
    "#print(\"+\"*15)\n",
    "print(sum1)\n",
    "print(\"+\"*25)\n",
    "#print(sum2)\n",
    "\n",
    "print(\"+\"*25)\n",
    "print(soustract)\n",
    "\n",
    "print(\"+\"*25)\n",
    "print(soustract2)\n",
    "\n"
   ]
  },
  {
   "cell_type": "code",
   "execution_count": null,
   "id": "d4177322",
   "metadata": {},
   "outputs": [],
   "source": []
  },
  {
   "cell_type": "code",
   "execution_count": null,
   "id": "a082e4c2",
   "metadata": {},
   "outputs": [],
   "source": []
  }
 ],
 "metadata": {
  "kernelspec": {
   "display_name": "Python 3",
   "language": "python",
   "name": "python3"
  },
  "language_info": {
   "codemirror_mode": {
    "name": "ipython",
    "version": 3
   },
   "file_extension": ".py",
   "mimetype": "text/x-python",
   "name": "python",
   "nbconvert_exporter": "python",
   "pygments_lexer": "ipython3",
   "version": "3.8.8"
  }
 },
 "nbformat": 4,
 "nbformat_minor": 5
}
