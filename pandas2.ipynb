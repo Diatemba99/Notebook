{
 "cells": [
  {
   "cell_type": "code",
   "execution_count": 15,
   "id": "f2eab6b8",
   "metadata": {},
   "outputs": [
    {
     "name": "stdout",
     "output_type": "stream",
     "text": [
      "dakhine     504\n",
      "niébé       250\n",
      "Nététou    6541\n",
      "Nokoss       85\n",
      "dtype: int64\n",
      "#########################\n",
      "dakhine     25000\n",
      "niébé       45250\n",
      "Nététou      8500\n",
      "Nokoss     154000\n",
      "dtype: int64\n",
      "#########################\n",
      "dakhine     25504\n",
      "niébé       45500\n",
      "Nététou     15041\n",
      "Nokoss     154085\n",
      "dtype: int64\n"
     ]
    }
   ],
   "source": [
    "import numpy as np\n",
    "import pandas as pd\n",
    "\n",
    "#values = pd.Series([\"GO\", \"MYDZ\", \"CODE\"])\n",
    "#print(values)\n",
    "\n",
    "eat = [\"dakhine\", \"niébé\", \"Nététou\", \"Nokoss\"]\n",
    "price = [504, 250, 6541, 85]\n",
    "\n",
    "Sum = pd.Series(price, index=eat)\n",
    "print(Sum)\n",
    "print(\"#\"*25)\n",
    "\n",
    "\n",
    "shoes = [\"AIR FORCE\", \"SUPRA\", \"NIKE\", \"BALMAIN\"]\n",
    "diar = [25000, 45250, 8500, 154000]\n",
    "\n",
    "ndeug = pd.Series(diar, index=eat)\n",
    "\n",
    "print(ndeug)\n",
    "print(\"#\"*25)\n",
    "\n",
    "print(Sum + ndeug)\n",
    "\n"
   ]
  },
  {
   "cell_type": "code",
   "execution_count": null,
   "id": "75cdf2a6",
   "metadata": {},
   "outputs": [],
   "source": []
  },
  {
   "cell_type": "code",
   "execution_count": null,
   "id": "88f31762",
   "metadata": {},
   "outputs": [],
   "source": []
  }
 ],
 "metadata": {
  "kernelspec": {
   "display_name": "Python 3",
   "language": "python",
   "name": "python3"
  },
  "language_info": {
   "codemirror_mode": {
    "name": "ipython",
    "version": 3
   },
   "file_extension": ".py",
   "mimetype": "text/x-python",
   "name": "python",
   "nbconvert_exporter": "python",
   "pygments_lexer": "ipython3",
   "version": "3.8.8"
  }
 },
 "nbformat": 4,
 "nbformat_minor": 5
}
