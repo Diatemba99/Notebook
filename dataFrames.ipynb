{
 "cells": [
  {
   "cell_type": "code",
   "execution_count": 1,
   "id": "5d13c5e4",
   "metadata": {},
   "outputs": [
    {
     "name": "stdout",
     "output_type": "stream",
     "text": [
      "        name  population     town\n",
      "0      KOLDA       17448   Sikilo\n",
      "1  ZIGUNCHOR      855888   Tilene\n",
      "2    SEDHIOU      741269   Escale\n",
      "3      TAMBA     9966399  Liberté\n"
     ]
    }
   ],
   "source": [
    "import numpy as np\n",
    "import pandas as pd\n",
    "\n",
    "#Creation of DataFrame with pandas series\n",
    "\n",
    "cities = {\"name\":[\"KOLDA\",\"ZIGUNCHOR\",\"SEDHIOU\",\"TAMBA\"],\n",
    "         \"population\":[17448,855888,741269,9966399],\n",
    "          \"town\":[\"Sikilo\",\"Tilene\",\"Escale\",\"Liberté\"]\n",
    "         }\n",
    "allCities = pd.DataFrame(cities)\n",
    "print(allCities)\n",
    "\n"
   ]
  },
  {
   "cell_type": "code",
   "execution_count": null,
   "id": "ccd7f343",
   "metadata": {},
   "outputs": [],
   "source": []
  }
 ],
 "metadata": {
  "kernelspec": {
   "display_name": "Python 3",
   "language": "python",
   "name": "python3"
  },
  "language_info": {
   "codemirror_mode": {
    "name": "ipython",
    "version": 3
   },
   "file_extension": ".py",
   "mimetype": "text/x-python",
   "name": "python",
   "nbconvert_exporter": "python",
   "pygments_lexer": "ipython3",
   "version": "3.8.8"
  }
 },
 "nbformat": 4,
 "nbformat_minor": 5
}
