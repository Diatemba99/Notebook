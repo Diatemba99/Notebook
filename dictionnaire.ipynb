{
 "cells": [
  {
   "cell_type": "code",
   "execution_count": 3,
   "id": "c53e4c49",
   "metadata": {},
   "outputs": [
    {
     "data": {
      "text/plain": [
       "dict_keys(['coco', 'bananes', 'pommes', 'ananas', 'acajou'])"
      ]
     },
     "execution_count": 3,
     "metadata": {},
     "output_type": "execute_result"
    }
   ],
   "source": [
    "dictionnaire = {\n",
    "    \"coco\":5050,\n",
    "    \"bananes\":6300,\n",
    "    \"pommes\":450,\n",
    "    \"ananas\":79630,\n",
    "    \"acajou\":1\n",
    "}\n",
    "\n",
    "dictionnaire.values()\n",
    "dictionnaire.keys()"
   ]
  },
  {
   "cell_type": "code",
   "execution_count": 4,
   "id": "673a77fb",
   "metadata": {},
   "outputs": [
    {
     "data": {
      "text/plain": [
       "{'coco': 5050,\n",
       " 'bananes': 6300,\n",
       " 'pommes': 450,\n",
       " 'ananas': 79630,\n",
       " 'acajou': 1,\n",
       " 'poires': 555}"
      ]
     },
     "execution_count": 4,
     "metadata": {},
     "output_type": "execute_result"
    }
   ],
   "source": [
    "dictionnaire[\"poires\"]=555\n",
    "dictionnaire"
   ]
  },
  {
   "cell_type": "code",
   "execution_count": 5,
   "id": "e4fcf619",
   "metadata": {
    "collapsed": true
   },
   "outputs": [
    {
     "name": "stdout",
     "output_type": "stream",
     "text": [
      "coco\n",
      "bananes\n",
      "pommes\n",
      "ananas\n",
      "acajou\n",
      "poires\n"
     ]
    }
   ],
   "source": [
    "for i in dictionnaire:\n",
    "    print(i)"
   ]
  },
  {
   "cell_type": "code",
   "execution_count": 6,
   "id": "e0a0fd9c",
   "metadata": {},
   "outputs": [
    {
     "name": "stdout",
     "output_type": "stream",
     "text": [
      "5050\n",
      "6300\n",
      "450\n",
      "79630\n",
      "1\n",
      "555\n"
     ]
    }
   ],
   "source": [
    "for i in dictionnaire.values():\n",
    "    print(i)"
   ]
  },
  {
   "cell_type": "code",
   "execution_count": null,
   "id": "f0800048",
   "metadata": {},
   "outputs": [],
   "source": []
  },
  {
   "cell_type": "code",
   "execution_count": 7,
   "id": "828b91d3",
   "metadata": {},
   "outputs": [
    {
     "name": "stdout",
     "output_type": "stream",
     "text": [
      "coco 5050\n",
      "bananes 6300\n",
      "pommes 450\n",
      "ananas 79630\n",
      "acajou 1\n",
      "poires 555\n"
     ]
    }
   ],
   "source": [
    "for k,v in dictionnaire.items():\n",
    "    print(k,v)"
   ]
  },
  {
   "cell_type": "code",
   "execution_count": null,
   "id": "b5054d18",
   "metadata": {},
   "outputs": [],
   "source": []
  }
 ],
 "metadata": {
  "kernelspec": {
   "display_name": "Python 3",
   "language": "python",
   "name": "python3"
  },
  "language_info": {
   "codemirror_mode": {
    "name": "ipython",
    "version": 3
   },
   "file_extension": ".py",
   "mimetype": "text/x-python",
   "name": "python",
   "nbconvert_exporter": "python",
   "pygments_lexer": "ipython3",
   "version": "3.8.8"
  }
 },
 "nbformat": 4,
 "nbformat_minor": 5
}
