{
 "cells": [
  {
   "cell_type": "code",
   "execution_count": 1,
   "id": "c3b7e5b4",
   "metadata": {},
   "outputs": [],
   "source": [
    "##DICTIONARY COMPREHENSIOn"
   ]
  },
  {
   "cell_type": "code",
   "execution_count": 2,
   "id": "af7ef460",
   "metadata": {},
   "outputs": [
    {
     "name": "stdout",
     "output_type": "stream",
     "text": [
      "{0: 1200, 1: 5875, 2: 8750, 3: 9000}\n"
     ]
    }
   ],
   "source": [
    "dico = {\n",
    "    '0': 'Mangue',\n",
    "    '1':'Banane',\n",
    "    '2':'Goyave',\n",
    "    '3':'Pomme'\n",
    "}\n",
    "\n",
    "prices = [1200, 5875, 8750, 9000]\n",
    "\n",
    "dico2 = {k:v for k,v in enumerate(prices)}\n",
    "print(dico2)"
   ]
  },
  {
   "cell_type": "code",
   "execution_count": 3,
   "id": "70e1cc87",
   "metadata": {},
   "outputs": [
    {
     "data": {
      "text/plain": [
       "{'dakar': 1200, 'matam': 5875, 'kaffrine': 8750, 'kolda': 9000}"
      ]
     },
     "execution_count": 3,
     "metadata": {},
     "output_type": "execute_result"
    }
   ],
   "source": [
    "lieu = ['dakar', 'matam', 'kaffrine', 'kolda']\n",
    "\n",
    "dico3 = {lieu:prices for lieu, prices in zip(lieu, prices)}\n",
    "dico3"
   ]
  },
  {
   "cell_type": "code",
   "execution_count": 8,
   "id": "e2630bd5",
   "metadata": {},
   "outputs": [
    {
     "data": {
      "text/plain": [
       "{'matam': 5875, 'kaffrine': 8750, 'kolda': 9000}"
      ]
     },
     "execution_count": 8,
     "metadata": {},
     "output_type": "execute_result"
    }
   ],
   "source": [
    "\n",
    "#        |Action à faire|       Pour cette collection      |conditiion à respecter\n",
    "dico3 = {lieu:prices for lieu, prices in zip(lieu, prices) if (prices > 1500)}\n",
    "dico3"
   ]
  },
  {
   "cell_type": "code",
   "execution_count": null,
   "id": "a76a6eef",
   "metadata": {},
   "outputs": [],
   "source": []
  }
 ],
 "metadata": {
  "kernelspec": {
   "display_name": "Python 3",
   "language": "python",
   "name": "python3"
  },
  "language_info": {
   "codemirror_mode": {
    "name": "ipython",
    "version": 3
   },
   "file_extension": ".py",
   "mimetype": "text/x-python",
   "name": "python",
   "nbconvert_exporter": "python",
   "pygments_lexer": "ipython3",
   "version": "3.8.8"
  }
 },
 "nbformat": 4,
 "nbformat_minor": 5
}
