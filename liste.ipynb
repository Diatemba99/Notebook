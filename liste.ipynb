{
 "cells": [
  {
   "cell_type": "code",
   "execution_count": 1,
   "id": "d0fde561",
   "metadata": {
    "collapsed": true
   },
   "outputs": [
    {
     "data": {
      "text/plain": [
       "['zig', 'kolda', 'thies', 'sedhiou', 'matam', 'tamba']"
      ]
     },
     "execution_count": 1,
     "metadata": {},
     "output_type": "execute_result"
    }
   ],
   "source": [
    "deuk = [\"zig\", \"kolda\", \"thies\", \"sedhiou\", \"matam\", \"tamba\"]\n",
    "deuk"
   ]
  },
  {
   "cell_type": "code",
   "execution_count": 2,
   "id": "785acb64",
   "metadata": {
    "collapsed": true
   },
   "outputs": [
    {
     "data": {
      "text/plain": [
       "6"
      ]
     },
     "execution_count": 2,
     "metadata": {},
     "output_type": "execute_result"
    }
   ],
   "source": [
    "len(deuk)"
   ]
  },
  {
   "cell_type": "code",
   "execution_count": 3,
   "id": "bdcb3f76",
   "metadata": {
    "collapsed": true
   },
   "outputs": [
    {
     "data": {
      "text/plain": [
       "['zig', 'kolda', 'thies', 'sedhiou', 'matam', 'tamba', 'kedougou']"
      ]
     },
     "execution_count": 3,
     "metadata": {},
     "output_type": "execute_result"
    }
   ],
   "source": [
    "deuk.append(\"kedougou\")\n",
    "deuk"
   ]
  },
  {
   "cell_type": "code",
   "execution_count": 4,
   "id": "5c4f6d01",
   "metadata": {
    "collapsed": true
   },
   "outputs": [
    {
     "data": {
      "text/plain": [
       "['kedougou', 'kolda', 'matam', 'sedhiou', 'tamba', 'thies', 'zig']"
      ]
     },
     "execution_count": 4,
     "metadata": {},
     "output_type": "execute_result"
    }
   ],
   "source": [
    "deuk.sort()\n",
    "deuk"
   ]
  },
  {
   "cell_type": "code",
   "execution_count": 5,
   "id": "29f9edab",
   "metadata": {
    "collapsed": true
   },
   "outputs": [
    {
     "data": {
      "text/plain": [
       "['zig', 'thies', 'tamba', 'sedhiou', 'matam', 'kolda', 'kedougou']"
      ]
     },
     "execution_count": 5,
     "metadata": {},
     "output_type": "execute_result"
    }
   ],
   "source": [
    "deuk.sort(reverse=True)\n",
    "deuk"
   ]
  },
  {
   "cell_type": "code",
   "execution_count": 6,
   "id": "d9ea59dd",
   "metadata": {
    "collapsed": true
   },
   "outputs": [
    {
     "data": {
      "text/plain": [
       "['zig',\n",
       " 'thies',\n",
       " 'tamba',\n",
       " 'sedhiou',\n",
       " 'matam',\n",
       " 'kolda',\n",
       " 'kedougou',\n",
       " 'kaolack',\n",
       " 'Saint-Louis']"
      ]
     },
     "execution_count": 6,
     "metadata": {},
     "output_type": "execute_result"
    }
   ],
   "source": [
    "deuk2= [\"kaolack\", \"Saint-Louis\"]\n",
    "deuk.extend(deuk2)\n",
    "deuk"
   ]
  },
  {
   "cell_type": "code",
   "execution_count": 11,
   "id": "22164c9b",
   "metadata": {
    "collapsed": true
   },
   "outputs": [
    {
     "name": "stdout",
     "output_type": "stream",
     "text": [
      "['zig', 'thies', 'tamba', 'sedhiou', 'matam', 'kolda', 'kedougou', 'kaolack', 'Saint-Louis']\n",
      "====================\n",
      "['zig', 'thies', 'tamba', 'sedhiou', 'matam', 'kolda', 'kedougou', 'kaolack', 'Saint-Louis']\n"
     ]
    }
   ],
   "source": [
    "deuk3 = deuk.copy()\n",
    "print(deuk3)\n",
    "print(\"==\"*10)\n",
    "print(deuk)"
   ]
  },
  {
   "cell_type": "code",
   "execution_count": 12,
   "id": "162ffb81",
   "metadata": {
    "collapsed": true
   },
   "outputs": [
    {
     "data": {
      "text/plain": [
       "['zig',\n",
       " 'kaffrine',\n",
       " 'thies',\n",
       " 'tamba',\n",
       " 'sedhiou',\n",
       " 'matam',\n",
       " 'kolda',\n",
       " 'kedougou',\n",
       " 'kaolack',\n",
       " 'Saint-Louis']"
      ]
     },
     "execution_count": 12,
     "metadata": {},
     "output_type": "execute_result"
    }
   ],
   "source": [
    "deuk3.insert(1,\"kaffrine\")\n",
    "deuk3"
   ]
  },
  {
   "cell_type": "code",
   "execution_count": 13,
   "id": "a6b21e5b",
   "metadata": {
    "collapsed": true
   },
   "outputs": [
    {
     "name": "stdout",
     "output_type": "stream",
     "text": [
      "zig\n",
      "kaffrine\n",
      "thies\n",
      "tamba\n",
      "sedhiou\n",
      "matam\n",
      "kolda\n",
      "kedougou\n",
      "kaolack\n",
      "Saint-Louis\n"
     ]
    }
   ],
   "source": [
    "for i in deuk3:\n",
    "    print(i)"
   ]
  },
  {
   "cell_type": "code",
   "execution_count": 14,
   "id": "5bac435a",
   "metadata": {},
   "outputs": [
    {
     "name": "stdout",
     "output_type": "stream",
     "text": [
      "right\n"
     ]
    }
   ],
   "source": [
    "if 'kolda' in deuk3:\n",
    "    print('right')\n",
    "else:\n",
    "    print('false')"
   ]
  },
  {
   "cell_type": "code",
   "execution_count": 19,
   "id": "e5f23311",
   "metadata": {
    "collapsed": true
   },
   "outputs": [
    {
     "name": "stdout",
     "output_type": "stream",
     "text": [
      "0 zig\n",
      "1 kaffrine\n",
      "2 thies\n",
      "3 tamba\n",
      "4 sedhiou\n",
      "5 matam\n",
      "6 kolda\n",
      "7 kedougou\n",
      "8 kaolack\n",
      "9 Saint-Louis\n"
     ]
    }
   ],
   "source": [
    "for ind, valeur in enumerate(deuk3):\n",
    "    print(ind,valeur)"
   ]
  },
  {
   "cell_type": "code",
   "execution_count": 25,
   "id": "73fae0c1",
   "metadata": {},
   "outputs": [
    {
     "name": "stdout",
     "output_type": "stream",
     "text": [
      "zig 2\n",
      "kaffrine 3\n",
      "thies 7\n",
      "tamba 8\n",
      "sedhiou 5\n",
      "matam 9\n",
      "kolda 6\n",
      "kedougou 40\n",
      "kaolack 50\n",
      "Saint-Louis 85\n"
     ]
    }
   ],
   "source": [
    "liste = [2,3,7,8,5,9,6,40,50,85]\n",
    "\n",
    "for a,b in zip(deuk3,liste):\n",
    "    print(a, b)"
   ]
  },
  {
   "cell_type": "code",
   "execution_count": null,
   "id": "839519d9",
   "metadata": {},
   "outputs": [],
   "source": []
  }
 ],
 "metadata": {
  "kernelspec": {
   "display_name": "Python 3",
   "language": "python",
   "name": "python3"
  },
  "language_info": {
   "codemirror_mode": {
    "name": "ipython",
    "version": 3
   },
   "file_extension": ".py",
   "mimetype": "text/x-python",
   "name": "python",
   "nbconvert_exporter": "python",
   "pygments_lexer": "ipython3",
   "version": "3.8.8"
  }
 },
 "nbformat": 4,
 "nbformat_minor": 5
}
